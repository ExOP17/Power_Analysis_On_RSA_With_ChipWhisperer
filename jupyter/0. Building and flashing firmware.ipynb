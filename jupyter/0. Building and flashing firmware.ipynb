{
 "cells": [
  {
   "cell_type": "markdown",
   "id": "2a48fa93-c1db-4377-ae32-ad7bc778e13b",
   "metadata": {},
   "source": [
    "# Building and flashing firmware\n",
    "\n",
    "In order to flash the chip with the right firmware you need to edit the makefile with the good firmware path\n"
   ]
  },
  {
   "cell_type": "code",
   "execution_count": 2,
   "id": "ec5281b5-cb11-4062-9c90-031cbc15dbad",
   "metadata": {},
   "outputs": [
    {
     "name": "stdout",
     "output_type": "stream",
     "text": [
      "TODOOOO\n"
     ]
    }
   ],
   "source": [
    "print(\"TODOOOO\")"
   ]
  },
  {
   "cell_type": "code",
   "execution_count": null,
   "id": "6ad2a188-a3dd-4333-97e6-51e2d7c352bd",
   "metadata": {},
   "outputs": [],
   "source": []
  }
 ],
 "metadata": {
  "kernelspec": {
   "display_name": "Python 3 (ipykernel)",
   "language": "python",
   "name": "python3"
  },
  "language_info": {
   "codemirror_mode": {
    "name": "ipython",
    "version": 3
   },
   "file_extension": ".py",
   "mimetype": "text/x-python",
   "name": "python",
   "nbconvert_exporter": "python",
   "pygments_lexer": "ipython3",
   "version": "3.9.5"
  }
 },
 "nbformat": 4,
 "nbformat_minor": 5
}
