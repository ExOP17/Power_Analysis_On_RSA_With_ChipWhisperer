{
 "cells": [
  {
   "cell_type": "markdown",
   "id": "2a48fa93-c1db-4377-ae32-ad7bc778e13b",
   "metadata": {},
   "source": [
    "# Building and flashing firmware\n",
    "\n",
    "In order to flash the chip with the right firmware you need to edit the makefile with the good firmware path\n"
   ]
  },
  {
   "cell_type": "markdown",
   "id": "1a63bf10-456b-4765-991b-7066066d857a",
   "metadata": {},
   "source": [
    "## Connect the Firmware "
   ]
  },
  {
   "cell_type": "markdown",
   "id": "031f450c-ecb7-4780-9b8f-51c295611050",
   "metadata": {},
   "source": [
    "Build the firmware with this command :"
   ]
  },
  {
   "cell_type": "code",
   "execution_count": null,
   "id": "3647806f-c11b-496a-a80b-279e7f07950a",
   "metadata": {},
   "outputs": [],
   "source": [
    "%%bash\n",
    "cd ../hardware/victims/firmware/simpleserial-base/\n",
    "make PLATFORM='CW308_STM32F3' CRYPTO_TARGET=NONE"
   ]
  },
  {
   "cell_type": "markdown",
   "id": "e39b7d80-7fcd-4752-87df-9beefb38c157",
   "metadata": {},
   "source": [
    "Then, upload your firmware on the target :"
   ]
  },
  {
   "cell_type": "code",
   "execution_count": null,
   "id": "f43b94d9-b9f8-44fb-8fcc-1fc9332d4652",
   "metadata": {},
   "outputs": [],
   "source": [
    "#cw.program_target(scope, cw.programmers.STM32FProgrammer, \"chemin/de/votre/firmware.hex\")"
   ]
  },
  {
   "cell_type": "markdown",
   "id": "04c5c393-4796-4d80-bbdc-4768e7f27bf2",
   "metadata": {},
   "source": [
    "*For other targets, you'll need to use an external programmer or a debugger to flash the firmware onto the target."
   ]
  },
  {
   "cell_type": "markdown",
   "id": "f639c604-f90e-4a73-be91-67407810217d",
   "metadata": {},
   "source": [
    "## Communication with the Target\n",
    "\n",
    "Communication with targets, which is done through the `SimpleSerial target` object we got earlier, is grouped into two categories:\n",
    "\n",
    "1. Raw serial via `target.read()`, `target.write()`, `target.flush()`, etc. \n",
    "\n",
    "1. SimpleSerial commands via `target.simpleserial_read()`, `target.simpleserial_write()`, `target.simpleserial_wait_ack()`, etc.\n",
    "\n",
    "The firmware we uploaded uses the simpleserial protocol (https://wiki.newae.com/SimpleSerial), so we'll start off with simpleserial. Later, we'll use the raw serial commands to send the same messages.\n",
    "\n",
    "If you check the simpleserial-base firmware (`simpleserial-base.c`) you'll find that for the simpleserial `'p'` command, the target will echo back the command."
   ]
  },
  {
   "cell_type": "markdown",
   "id": "266f41d1-c7be-4cbe-8381-23ab74090301",
   "metadata": {},
   "source": [
    "Now test if your hadware respond to your commands"
   ]
  },
  {
   "cell_type": "markdown",
   "id": "71e7744e-968f-4c9e-b4a2-24e1ac232e1d",
   "metadata": {},
   "source": [
    "## Capturing traces "
   ]
  },
  {
   "cell_type": "markdown",
   "id": "0e4687dc-2a1e-46a8-831d-b0915e52dd02",
   "metadata": {},
   "source": [
    "For capture trace let's arm the target : "
   ]
  },
  {
   "cell_type": "markdown",
   "id": "efac1a3e-c770-4913-8c4e-c1bcea6aa286",
   "metadata": {},
   "source": [
    "1. Arm the ChipWhisperer with `scope.arm()`. It will begin capturing as soon as it is triggered (which in our case is a rising edge on `gpio4`.\n",
    "1. `scope.capture()` will read back the captured power trace, blocking until either ChipWhisperer is done recording, or the scope times out. Note that the error return will tell you whether or not the scope timed out. It does not return the captured scope data.\n",
    "1. You can read back the captured power trace with `scope.get_last_trace()`.\n",
    "\n",
    "`simpleserial_base` will trigger the ChipWhisperer when we send the `'p'` command. Try capturing a trace now:"
   ]
  },
  {
   "cell_type": "markdown",
   "id": "d87036bf-a64a-42b1-b57c-9f993541eb8e",
   "metadata": {},
   "source": [
    "ChipWhisperer also has a `capture_trace()` convience function that:\n",
    "\n",
    "1. Optionally sends the `'k'` command\n",
    "1. Arms the scope\n",
    "1. Sends the `'p'` command\n",
    "1. Captures the trace\n",
    "1. Reads the return `'r'` message\n",
    "1. Returns a `Trace` class that groups the trace data, `'p'` message, the `'r'` message, and the `'k'` message\n",
    "\n",
    "It isn't always the best option to use, but it's usually sufficient for most simpleserial applications"
   ]
  },
  {
   "cell_type": "markdown",
   "id": "cd229809-a22a-47f4-a665-0dbaeeec6f8a",
   "metadata": {},
   "source": [
    "## Troubleshooting\n",
    "If you get the following error :"
   ]
  },
  {
   "cell_type": "markdown",
   "id": "fa27ed73-7183-4768-8eb3-c297ab1c142d",
   "metadata": {},
   "source": [
    "```console\n",
    ".\n",
    "Compiling:\n",
    "    simpleserial-homemade-rsa.c ...In file included from utils/utils.h:4,\n",
    "                 from simpleserial-homemade-rsa.c:3:\n",
    "/usr/lib/gcc/arm-none-eabi/13.2.0/include/stdint.h:9:16: fatal error: stdint.h: No such file or directory\n",
    "    9 | # include_next <stdint.h>\n",
    "      |                ^~~~~~~~~~\n",
    "compilation terminated.\n",
    "```\n"
   ]
  },
  {
   "cell_type": "markdown",
   "id": "97e56ad2-8444-4c84-968b-d8c410d17f5c",
   "metadata": {},
   "source": [
    "You need to install the following package: `arm-none-eabi-newlib`"
   ]
  }
 ],
 "metadata": {
  "kernelspec": {
   "display_name": "Python 3 (ipykernel)",
   "language": "python",
   "name": "python3"
  },
  "language_info": {
   "codemirror_mode": {
    "name": "ipython",
    "version": 3
   },
   "file_extension": ".py",
   "mimetype": "text/x-python",
   "name": "python",
   "nbconvert_exporter": "python",
   "pygments_lexer": "ipython3",
   "version": "3.11.6"
  }
 },
 "nbformat": 4,
 "nbformat_minor": 5
}
