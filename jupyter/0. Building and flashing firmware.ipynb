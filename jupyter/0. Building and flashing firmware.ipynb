{
 "cells": [
  {
   "cell_type": "markdown",
   "id": "2a48fa93-c1db-4377-ae32-ad7bc778e13b",
   "metadata": {},
   "source": [
    "# Building and flashing firmware\n",
    "\n",
    "In order to flash the chip with the right firmware you need to edit the makefile with the good firmware path\n"
   ]
  },
  {
   "cell_type": "markdown",
   "id": "1a63bf10-456b-4765-991b-7066066d857a",
   "metadata": {},
   "source": [
    "## Connect to the chip"
   ]
  },
  {
   "cell_type": "code",
   "execution_count": 248,
   "id": "3647806f-c11b-496a-a80b-279e7f07950a",
   "metadata": {},
   "outputs": [],
   "source": [
    "import chipwhisperer as cw\n",
    "scope = cw.scope()"
   ]
  },
  {
   "cell_type": "code",
   "execution_count": 254,
   "id": "85b4024a-e8ec-4562-90cd-d973559f10bb",
   "metadata": {
    "scrolled": true
   },
   "outputs": [
    {
     "data": {
      "text/plain": [
       "cwlite Device\n",
       "sn         = 50203220343043543030323238313032\n",
       "fw_version = \n",
       "    major = 0\n",
       "    minor = 64\n",
       "    debug = 0\n",
       "gain = \n",
       "    mode = high\n",
       "    gain = 30\n",
       "    db   = 24.8359375\n",
       "adc = \n",
       "    state          = False\n",
       "    basic_mode     = rising_edge\n",
       "    timeout        = 2\n",
       "    offset         = 0\n",
       "    presamples     = 0\n",
       "    samples        = 5000\n",
       "    decimate       = 1\n",
       "    trig_count     = 840110697\n",
       "    fifo_fill_mode = normal\n",
       "clock = \n",
       "    adc_src       = clkgen_x4\n",
       "    adc_phase     = 0\n",
       "    adc_freq      = 29538459\n",
       "    adc_rate      = 29538459.0\n",
       "    adc_locked    = True\n",
       "    freq_ctr      = 0\n",
       "    freq_ctr_src  = extclk\n",
       "    clkgen_src    = system\n",
       "    extclk_freq   = 10000000\n",
       "    clkgen_mul    = 2\n",
       "    clkgen_div    = 26\n",
       "    clkgen_freq   = 7384615.384615385\n",
       "    clkgen_locked = True\n",
       "trigger = \n",
       "    triggers = tio4\n",
       "    module   = basic\n",
       "io = \n",
       "    tio1         = serial_rx\n",
       "    tio2         = serial_tx\n",
       "    tio3         = high_z\n",
       "    tio4         = high_z\n",
       "    pdid         = high_z\n",
       "    pdic         = high_z\n",
       "    nrst         = high_z\n",
       "    glitch_hp    = False\n",
       "    glitch_lp    = False\n",
       "    extclk_src   = hs1\n",
       "    hs2          = clkgen\n",
       "    target_pwr   = True\n",
       "    tio_states   = (1, 1, 0, 0)\n",
       "    cdc_settings = bytearray(b'\\x00\\x00\\x00\\x00')\n",
       "glitch = \n",
       "    clk_src     = target\n",
       "    width       = 10.15625\n",
       "    width_fine  = 0\n",
       "    offset      = 10.15625\n",
       "    offset_fine = 0\n",
       "    trigger_src = manual\n",
       "    arm_timing  = after_scope\n",
       "    ext_offset  = 0\n",
       "    repeat      = 1\n",
       "    output      = clock_xor"
      ]
     },
     "execution_count": 254,
     "metadata": {},
     "output_type": "execute_result"
    }
   ],
   "source": [
    "scope"
   ]
  },
  {
   "cell_type": "code",
   "execution_count": 255,
   "id": "76a91e2b-f9c2-49dd-a514-426bfb04a48a",
   "metadata": {},
   "outputs": [],
   "source": [
    "target = cw.target(scope, cw.targets.SimpleSerial) #cw.targets.SimpleSerial can be omitted"
   ]
  },
  {
   "cell_type": "code",
   "execution_count": 256,
   "id": "45d7b07d-f597-4804-85f0-a76c302a8986",
   "metadata": {},
   "outputs": [
    {
     "data": {
      "text/plain": [
       "SimpleSerial Settings =\n",
       "\toutput_len             = 16\n",
       "\tbaud                   = 38400\n",
       "\tsimpleserial_last_read = \n",
       "\tsimpleserial_last_sent = \n",
       "\t"
      ]
     },
     "execution_count": 256,
     "metadata": {},
     "output_type": "execute_result"
    }
   ],
   "source": [
    "target"
   ]
  },
  {
   "cell_type": "code",
   "execution_count": 257,
   "id": "c49e42c9-58c3-4eb1-9a83-04419ad5519c",
   "metadata": {},
   "outputs": [],
   "source": [
    "scope.default_setup()"
   ]
  },
  {
   "cell_type": "code",
   "execution_count": 284,
   "id": "f43b94d9-b9f8-44fb-8fcc-1fc9332d4652",
   "metadata": {},
   "outputs": [
    {
     "name": "stdout",
     "output_type": "stream",
     "text": [
      "XMEGA Programming flash...\n",
      "XMEGA Reading flash...\n",
      "Verified flash OK, 2231 bytes\n"
     ]
    }
   ],
   "source": [
    "path_to_src = \"/home/etienne/Documents/Ecole/ENSIBS/PEI-2/ProjetPluri/Power_Analysis_On_RSA_With_ChipWhisperer/src/\"\n",
    "file_name = \"simpleserial-homemade-rsa-CW308_STM32F3.hex\"\n",
    "xor_path = \"/home/etienne/Documents/Ecole/ENSIBS/PEI-2/ProjetPluri/nos_trucs/xor_test/simpleserial-xor-CW303.hex\"\n",
    "#cw.program_target(scope, cw.programmers.STM32FProgrammer, path_to_src + file_name)\n",
    "cw.program_target(scope, cw.programmers.XMEGAProgrammer, xor_path)"
   ]
  },
  {
   "cell_type": "code",
   "execution_count": 307,
   "id": "e3c492d6-9a26-4d52-a671-c77237d3cf8d",
   "metadata": {},
   "outputs": [],
   "source": [
    "msg = bytearray([1]*16) #simpleserial uses bytearrays\n",
    "#target.simpleserial_write('k', msg)\n",
    "\n",
    "target.simpleserial_write('z', msg)"
   ]
  },
  {
   "cell_type": "code",
   "execution_count": 308,
   "id": "6751708b-cca4-476d-964d-6abb481b1999",
   "metadata": {},
   "outputs": [
    {
     "name": "stdout",
     "output_type": "stream",
     "text": [
      "`````````````````````````h```h```h```\n"
     ]
    }
   ],
   "source": [
    "#print(target.simpleserial_read('r', 16))\n",
    "print(target.read())\n",
    "#\"r11111111\""
   ]
  },
  {
   "cell_type": "code",
   "execution_count": 305,
   "id": "9a411775-d7f0-42cb-b7cb-81acc090c58a",
   "metadata": {},
   "outputs": [],
   "source": [
    "cle = 1234 #simpleserial uses bytearrays\n",
    "from struct import pack\n",
    "target.simpleserial_write('s', pack(\"<Q\", cle))"
   ]
  },
  {
   "cell_type": "code",
   "execution_count": 306,
   "id": "c867f7f3-6c19-4310-82f7-89be05a1d07f",
   "metadata": {},
   "outputs": [
    {
     "name": "stderr",
     "output_type": "stream",
     "text": [
      "(ChipWhisperer Target WARNING|File SimpleSerial.py:410) Unexpected start to command: `\n"
     ]
    },
    {
     "name": "stdout",
     "output_type": "stream",
     "text": [
      "None\n"
     ]
    }
   ],
   "source": [
    "print(target.simpleserial_read('k', 20))"
   ]
  },
  {
   "cell_type": "markdown",
   "id": "f639c604-f90e-4a73-be91-67407810217d",
   "metadata": {},
   "source": [
    "## Communication with the Target\n",
    "\n",
    "Communication with targets, which is done through the `SimpleSerial target` object we got earlier, is grouped into two categories:\n",
    "\n",
    "1. Raw serial via `target.read()`, `target.write()`, `target.flush()`, etc. \n",
    "\n",
    "1. SimpleSerial commands via `target.simpleserial_read()`, `target.simpleserial_write()`, `target.simpleserial_wait_ack()`, etc.\n",
    "\n",
    "The firmware we uploaded uses the simpleserial protocol (https://wiki.newae.com/SimpleSerial), so we'll start off with simpleserial. Later, we'll use the raw serial commands to send the same messages.\n",
    "\n",
    "If you check the simpleserial-base firmware (`simpleserial-base.c`) you'll find that for the simpleserial `'p'` command, the target will echo back the command."
   ]
  },
  {
   "cell_type": "markdown",
   "id": "266f41d1-c7be-4cbe-8381-23ab74090301",
   "metadata": {},
   "source": [
    "Now test if your hadware respond to your commands"
   ]
  },
  {
   "cell_type": "markdown",
   "id": "71e7744e-968f-4c9e-b4a2-24e1ac232e1d",
   "metadata": {},
   "source": [
    "## Capturing traces "
   ]
  },
  {
   "cell_type": "markdown",
   "id": "0e4687dc-2a1e-46a8-831d-b0915e52dd02",
   "metadata": {},
   "source": [
    "For capture trace let's arm the target : "
   ]
  },
  {
   "cell_type": "markdown",
   "id": "efac1a3e-c770-4913-8c4e-c1bcea6aa286",
   "metadata": {},
   "source": [
    "1. Arm the ChipWhisperer with `scope.arm()`. It will begin capturing as soon as it is triggered (which in our case is a rising edge on `gpio4`.\n",
    "1. `scope.capture()` will read back the captured power trace, blocking until either ChipWhisperer is done recording, or the scope times out. Note that the error return will tell you whether or not the scope timed out. It does not return the captured scope data.\n",
    "1. You can read back the captured power trace with `scope.get_last_trace()`.\n",
    "\n",
    "`simpleserial_base` will trigger the ChipWhisperer when we send the `'p'` command. Try capturing a trace now:"
   ]
  },
  {
   "cell_type": "markdown",
   "id": "d87036bf-a64a-42b1-b57c-9f993541eb8e",
   "metadata": {},
   "source": [
    "ChipWhisperer also has a `capture_trace()` convience function that:\n",
    "\n",
    "1. Optionally sends the `'k'` command\n",
    "1. Arms the scope\n",
    "1. Sends the `'p'` command\n",
    "1. Captures the trace\n",
    "1. Reads the return `'r'` message\n",
    "1. Returns a `Trace` class that groups the trace data, `'p'` message, the `'r'` message, and the `'k'` message\n",
    "\n",
    "It isn't always the best option to use, but it's usually sufficient for most simpleserial applications"
   ]
  },
  {
   "cell_type": "markdown",
   "id": "cd229809-a22a-47f4-a665-0dbaeeec6f8a",
   "metadata": {},
   "source": [
    "## Troubleshooting\n",
    "If you get the following error :"
   ]
  },
  {
   "cell_type": "markdown",
   "id": "fa27ed73-7183-4768-8eb3-c297ab1c142d",
   "metadata": {},
   "source": [
    "```console\n",
    ".\n",
    "Compiling:\n",
    "    simpleserial-homemade-rsa.c ...In file included from utils/utils.h:4,\n",
    "                 from simpleserial-homemade-rsa.c:3:\n",
    "/usr/lib/gcc/arm-none-eabi/13.2.0/include/stdint.h:9:16: fatal error: stdint.h: No such file or directory\n",
    "    9 | # include_next <stdint.h>\n",
    "      |                ^~~~~~~~~~\n",
    "compilation terminated.\n",
    "```\n"
   ]
  },
  {
   "cell_type": "markdown",
   "id": "97e56ad2-8444-4c84-968b-d8c410d17f5c",
   "metadata": {},
   "source": [
    "You need to install the following package: `arm-none-eabi-newlib`"
   ]
  }
 ],
 "metadata": {
  "kernelspec": {
   "display_name": "Python 3 (ipykernel)",
   "language": "python",
   "name": "python3"
  },
  "language_info": {
   "codemirror_mode": {
    "name": "ipython",
    "version": 3
   },
   "file_extension": ".py",
   "mimetype": "text/x-python",
   "name": "python",
   "nbconvert_exporter": "python",
   "pygments_lexer": "ipython3",
   "version": "3.9.5"
  }
 },
 "nbformat": 4,
 "nbformat_minor": 5
}
