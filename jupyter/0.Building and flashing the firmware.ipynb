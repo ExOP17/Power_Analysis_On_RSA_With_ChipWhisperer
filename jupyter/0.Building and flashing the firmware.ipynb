{
 "cells": [
  {
   "cell_type": "markdown",
   "id": "5dc0cd0d-59dd-4c4d-83d9-c4bd5926119c",
   "metadata": {},
   "source": [
    "# Building and flashing firmware\n",
    "\n",
    "## Conneecting to hardware"
   ]
  },
  {
   "cell_type": "code",
   "execution_count": 222,
   "id": "49dc8839-fbbb-4b40-961f-442fce4b76a3",
   "metadata": {},
   "outputs": [],
   "source": [
    "import chipwhisperer as cw\n",
    "scope = cw.scope()"
   ]
  },
  {
   "cell_type": "code",
   "execution_count": 223,
   "id": "f125cec3-a1fb-4846-bc4e-9c9f9267d61e",
   "metadata": {},
   "outputs": [
    {
     "data": {
      "text/plain": [
       "cwlite Device\n",
       "sn         = 50203220343043543030323238313032\n",
       "fw_version = \n",
       "    major = 0\n",
       "    minor = 64\n",
       "    debug = 0\n",
       "gain = \n",
       "    mode = low\n",
       "    gain = 0\n",
       "    db   = 5.5\n",
       "adc = \n",
       "    state          = False\n",
       "    basic_mode     = low\n",
       "    timeout        = 2\n",
       "    offset         = 0\n",
       "    presamples     = 0\n",
       "    samples        = 24400\n",
       "    decimate       = 1\n",
       "    trig_count     = 107069519\n",
       "    fifo_fill_mode = normal\n",
       "clock = \n",
       "    adc_src       = clkgen_x1\n",
       "    adc_phase     = 0\n",
       "    adc_freq      = 96000000\n",
       "    adc_rate      = 96000000.0\n",
       "    adc_locked    = True\n",
       "    freq_ctr      = 0\n",
       "    freq_ctr_src  = extclk\n",
       "    clkgen_src    = system\n",
       "    extclk_freq   = 10000000\n",
       "    clkgen_mul    = 2\n",
       "    clkgen_div    = 1\n",
       "    clkgen_freq   = 192000000.0\n",
       "    clkgen_locked = True\n",
       "trigger = \n",
       "    triggers = tio4\n",
       "    module   = basic\n",
       "io = \n",
       "    tio1         = serial_tx\n",
       "    tio2         = serial_rx\n",
       "    tio3         = high_z\n",
       "    tio4         = high_z\n",
       "    pdid         = high_z\n",
       "    pdic         = high_z\n",
       "    nrst         = high_z\n",
       "    glitch_hp    = False\n",
       "    glitch_lp    = False\n",
       "    extclk_src   = hs1\n",
       "    hs2          = None\n",
       "    target_pwr   = True\n",
       "    tio_states   = (1, 0, 0, 0)\n",
       "    cdc_settings = bytearray(b'\\x01\\x00\\x00\\x00')\n",
       "glitch = \n",
       "    clk_src     = target\n",
       "    width       = 10.15625\n",
       "    width_fine  = 0\n",
       "    offset      = 10.15625\n",
       "    offset_fine = 0\n",
       "    trigger_src = manual\n",
       "    arm_timing  = after_scope\n",
       "    ext_offset  = 0\n",
       "    repeat      = 1\n",
       "    output      = clock_xor"
      ]
     },
     "execution_count": 223,
     "metadata": {},
     "output_type": "execute_result"
    }
   ],
   "source": [
    "scope"
   ]
  },
  {
   "cell_type": "code",
   "execution_count": 224,
   "id": "e9a0c669-5210-4c7f-8481-4dd6c61c190b",
   "metadata": {},
   "outputs": [],
   "source": [
    "target = cw.target(scope, cw.targets.SimpleSerial) #cw.targets.SimpleSerial can be omitted"
   ]
  },
  {
   "cell_type": "code",
   "execution_count": 225,
   "id": "9c237779-c2ae-4409-8738-290439828f93",
   "metadata": {},
   "outputs": [
    {
     "data": {
      "text/plain": [
       "SimpleSerial Settings =\n",
       "\toutput_len             = 16\n",
       "\tbaud                   = 38400\n",
       "\tsimpleserial_last_read = \n",
       "\tsimpleserial_last_sent = \n",
       "\t"
      ]
     },
     "execution_count": 225,
     "metadata": {},
     "output_type": "execute_result"
    }
   ],
   "source": [
    "target"
   ]
  },
  {
   "cell_type": "code",
   "execution_count": 226,
   "id": "b1faaad3-4937-4e00-9b89-ce3978f5239e",
   "metadata": {},
   "outputs": [],
   "source": [
    "# Using default setup for the scope\n",
    "scope.default_setup()"
   ]
  },
  {
   "cell_type": "markdown",
   "id": "fd6b75b4-5da2-4612-865d-54bea466844d",
   "metadata": {
    "jp-MarkdownHeadingCollapsed": true
   },
   "source": [
    "## First test with an ChipWhisperer's firmware\n",
    "\n",
    "### Flashing the firmware"
   ]
  },
  {
   "cell_type": "code",
   "execution_count": 6,
   "id": "d786a98d-b818-4da6-a387-e398f64e812d",
   "metadata": {},
   "outputs": [
    {
     "name": "stdout",
     "output_type": "stream",
     "text": [
      "/home/etienne/Documents/Ecole/ENSIBS/PEI-2/ProjetPluri/chipwhisperer/hardware/victims/firmware/simpleserial-base\n",
      "SS_VER set to SS_VER_1_1\n",
      "SS_VER set to SS_VER_1_1\n",
      "SS_VER set to SS_VER_1_1\n",
      "SS_VER set to SS_VER_1_1\n",
      "make[1]: '.dep' is up to date.\n",
      "SS_VER set to SS_VER_1_1\n",
      "SS_VER set to SS_VER_1_1\n",
      ".\n",
      "Welcome to another exciting ChipWhisperer target build!!\n",
      "avr-gcc (GCC) 13.2.0\n",
      "Copyright (C) 2023 Free Software Foundation, Inc.\n",
      "This is free software; see the source for copying conditions.  There is NO\n",
      "warranty; not even for MERCHANTABILITY or FITNESS FOR A PARTICULAR PURPOSE.\n",
      "\n",
      ".\n",
      "Compiling:\n",
      "    simpleserial-base.c ...Done!\n",
      ".\n",
      "Compiling:\n",
      "    .././simpleserial/simpleserial.c ...Done!\n",
      ".\n",
      "Compiling:\n",
      "    .././hal/xmega/XMEGA_AES_driver.c ...Done!\n",
      ".\n",
      "Compiling:\n"
     ]
    },
    {
     "name": "stderr",
     "output_type": "stream",
     "text": [
      "In file included from .././hal/xmega/uart.h:2,\n",
      "                 from .././hal/xmega/uart.c:1:\n",
      ".././hal/xmega/uart.c: In function 'init_uart0':\n",
      ".././hal/xmega/usart_driver.h:130:17: warning: array subscript 0 is outside array bounds of 'USART_t[0]' {aka 'struct USART_struct[]'} [-Warray-bounds=]\n",
      "  130 |         (_usart)->CTRLC = (uint8_t) _charSize | _parityMode |                      \\\n",
      "      |                 ^~\n",
      ".././hal/xmega/uart.c:23:9: note: in expansion of macro 'USART_Format_Set'\n",
      "   23 |         USART_Format_Set(&USART, USART_CHSIZE_8BIT_gc, USART_PMODE_DISABLED_gc, false);\n",
      "      |         ^~~~~~~~~~~~~~~~\n",
      "cc1: note: source object is likely at address zero\n",
      ".././hal/xmega/usart_driver.h:157:17: warning: array subscript 0 is outside array bounds of 'USART_t[0]' {aka 'struct USART_struct[]'} [-Warray-bounds=]\n",
      "  157 |         (_usart)->BAUDCTRLA =(uint8_t)_bselValue;                                           \\\n",
      "      |                 ^~\n",
      ".././hal/xmega/uart.c:35:9: note: in expansion of macro 'USART_Baudrate_Set'\n",
      "   35 |         USART_Baudrate_Set(&USART, 11, 0);\n",
      "      |         ^~~~~~~~~~~~~~~~~~\n",
      "cc1: note: source object is likely at address zero\n",
      ".././hal/xmega/usart_driver.h:158:17: warning: array subscript 0 is outside array bounds of 'USART_t[0]' {aka 'struct USART_struct[]'} [-Warray-bounds=]\n",
      "  158 |         (_usart)->BAUDCTRLB =(_bScaleFactor << USART_BSCALE0_bp)|(_bselValue >> 8)\n",
      "      |                 ^~\n",
      ".././hal/xmega/uart.c:35:9: note: in expansion of macro 'USART_Baudrate_Set'\n",
      "   35 |         USART_Baudrate_Set(&USART, 11, 0);\n",
      "      |         ^~~~~~~~~~~~~~~~~~\n",
      "cc1: note: source object is likely at address zero\n",
      ".././hal/xmega/usart_driver.h:165:42: warning: array subscript 0 is outside array bounds of 'USART_t[0]' {aka 'struct USART_struct[]'} [-Warray-bounds=]\n",
      "  165 | #define USART_Rx_Enable(_usart) ((_usart)->CTRLB |= USART_RXEN_bm)\n",
      "      |                                          ^~\n",
      ".././hal/xmega/uart.c:39:9: note: in expansion of macro 'USART_Rx_Enable'\n",
      "   39 |         USART_Rx_Enable(&USART);\n",
      "      |         ^~~~~~~~~~~~~~~\n",
      "cc1: note: source object is likely at address zero\n",
      ".././hal/xmega/usart_driver.h:165:42: warning: array subscript 0 is outside array bounds of 'USART_t[0]' {aka 'struct USART_struct[]'} [-Warray-bounds=]\n",
      "  165 | #define USART_Rx_Enable(_usart) ((_usart)->CTRLB |= USART_RXEN_bm)\n",
      "      |                                          ^~\n",
      ".././hal/xmega/uart.c:39:9: note: in expansion of macro 'USART_Rx_Enable'\n",
      "   39 |         USART_Rx_Enable(&USART);\n",
      "      |         ^~~~~~~~~~~~~~~\n",
      "cc1: note: source object is likely at address zero\n",
      ".././hal/xmega/usart_driver.h:179:42: warning: array subscript 0 is outside array bounds of 'USART_t[0]' {aka 'struct USART_struct[]'} [-Warray-bounds=]\n",
      "  179 | #define USART_Tx_Enable(_usart) ((_usart)->CTRLB |= USART_TXEN_bm)\n",
      "      |                                          ^~\n",
      ".././hal/xmega/uart.c:40:9: note: in expansion of macro 'USART_Tx_Enable'\n",
      "   40 |         USART_Tx_Enable(&USART);\n",
      "      |         ^~~~~~~~~~~~~~~\n",
      "cc1: note: source object is likely at address zero\n",
      ".././hal/xmega/usart_driver.h:179:42: warning: array subscript 0 is outside array bounds of 'USART_t[0]' {aka 'struct USART_struct[]'} [-Warray-bounds=]\n",
      "  179 | #define USART_Tx_Enable(_usart) ((_usart)->CTRLB |= USART_TXEN_bm)\n",
      "      |                                          ^~\n",
      ".././hal/xmega/uart.c:40:9: note: in expansion of macro 'USART_Tx_Enable'\n",
      "   40 |         USART_Tx_Enable(&USART);\n",
      "      |         ^~~~~~~~~~~~~~~\n",
      "cc1: note: source object is likely at address zero\n",
      ".././hal/xmega/uart.c: In function 'input_ch_w_timeout_0':\n",
      ".././hal/xmega/usart_driver.h:270:46: warning: array subscript 0 is outside array bounds of 'USART_t[0]' {aka 'struct USART_struct[]'} [-Warray-bounds=]\n",
      "  270 | #define USART_IsRXComplete(_usart) (((_usart)->STATUS & USART_RXCIF_bm) != 0)\n",
      "      |                                              ^~\n",
      ".././hal/xmega/uart.c:55:21: note: in expansion of macro 'USART_IsRXComplete'\n",
      "   55 |                 if (USART_IsRXComplete(&USART))\n",
      "      |                     ^~~~~~~~~~~~~~~~~~\n",
      "cc1: note: source object is likely at address zero\n",
      ".././hal/xmega/usart_driver.h:284:41: warning: array subscript 0 is outside array bounds of 'USART_t[0]' {aka 'struct USART_struct[]'} [-Warray-bounds=]\n",
      "  284 | #define USART_GetChar(_usart)  ((_usart)->DATA)\n",
      "      |                                         ^~\n",
      ".././hal/xmega/uart.c:57:33: note: in expansion of macro 'USART_GetChar'\n",
      "   57 |                         *data = USART_GetChar(&USART);\n",
      "      |                                 ^~~~~~~~~~~~~\n",
      "cc1: note: source object is likely at address zero\n",
      ".././hal/xmega/uart.c: In function 'input_ch_0':\n",
      ".././hal/xmega/usart_driver.h:270:46: warning: array subscript 0 is outside array bounds of 'USART_t[0]' {aka 'struct USART_struct[]'} [-Warray-bounds=]\n",
      "  270 | #define USART_IsRXComplete(_usart) (((_usart)->STATUS & USART_RXCIF_bm) != 0)\n",
      "      |                                              ^~\n",
      ".././hal/xmega/uart.c:72:12: note: in expansion of macro 'USART_IsRXComplete'\n",
      "   72 |    while (!USART_IsRXComplete(&USART))\n",
      "      |            ^~~~~~~~~~~~~~~~~~\n",
      "cc1: note: source object is likely at address zero\n",
      ".././hal/xmega/usart_driver.h:284:41: warning: array subscript 0 is outside array bounds of 'USART_t[0]' {aka 'struct USART_struct[]'} [-Warray-bounds=]\n",
      "  284 | #define USART_GetChar(_usart)  ((_usart)->DATA)\n",
      "      |                                         ^~\n",
      ".././hal/xmega/uart.c:76:16: note: in expansion of macro 'USART_GetChar'\n",
      "   76 |         return USART_GetChar(&USART);;\n",
      "      |                ^~~~~~~~~~~~~\n",
      "cc1: note: source object is likely at address zero\n",
      ".././hal/xmega/uart.c: In function 'output_ch_0':\n",
      ".././hal/xmega/usart_driver.h:248:55: warning: array subscript 0 is outside array bounds of 'USART_t[0]' {aka 'struct USART_struct[]'} [-Warray-bounds=]\n",
      "  248 | #define USART_IsTXDataRegisterEmpty(_usart) (((_usart)->STATUS & USART_DREIF_bm) != 0)\n",
      "      |                                                       ^~\n",
      ".././hal/xmega/uart.c:84:16: note: in expansion of macro 'USART_IsTXDataRegisterEmpty'\n",
      "   84 |         while(!USART_IsTXDataRegisterEmpty(&USART));\n",
      "      |                ^~~~~~~~~~~~~~~~~~~~~~~~~~~\n",
      "cc1: note: source object is likely at address zero\n",
      ".././hal/xmega/usart_driver.h:260:47: warning: array subscript 0 is outside array bounds of 'USART_t[0]' {aka 'struct USART_struct[]'} [-Warray-bounds=]\n",
      "  260 | #define USART_PutChar(_usart, _data) ((_usart)->DATA = _data)\n",
      "      |                                               ^~\n",
      ".././hal/xmega/uart.c:85:9: note: in expansion of macro 'USART_PutChar'\n",
      "   85 |         USART_PutChar(&USART, data);\n",
      "      |         ^~~~~~~~~~~~~\n",
      "cc1: note: source object is likely at address zero\n"
     ]
    },
    {
     "name": "stdout",
     "output_type": "stream",
     "text": [
      "    .././hal/xmega/uart.c ...Done!\n",
      ".\n",
      "Compiling:\n",
      "    .././hal/xmega/usart_driver.c ...Done!\n",
      ".\n",
      "Compiling:\n",
      "    .././hal/xmega/xmega_hal.c ...Done!\n",
      ".\n",
      "LINKING:\n",
      "    simpleserial-base-CW303.elf ...Done!\n",
      ".\n",
      "Creating load file for Flash: simpleserial-base-CW303.hex\n",
      "avr-objcopy -O ihex -R .eeprom -R .fuse -R .lock -R .signature simpleserial-base-CW303.elf simpleserial-base-CW303.hex\n",
      ".\n",
      "Creating load file for Flash: simpleserial-base-CW303.bin\n",
      "avr-objcopy -O binary -R .eeprom -R .fuse -R .lock -R .signature simpleserial-base-CW303.elf simpleserial-base-CW303.bin\n",
      ".\n",
      "Creating load file for EEPROM: simpleserial-base-CW303.eep\n",
      "avr-objcopy -j .eeprom --set-section-flags=.eeprom=\"alloc,load\" \\\n",
      "--change-section-lma .eeprom=0 --no-change-warnings -O ihex simpleserial-base-CW303.elf simpleserial-base-CW303.eep || exit 0\n",
      ".\n",
      "Creating Extended Listing: simpleserial-base-CW303.lss\n",
      "avr-objdump -h -S -z simpleserial-base-CW303.elf > simpleserial-base-CW303.lss\n",
      ".\n",
      "Creating Symbol Table: simpleserial-base-CW303.sym\n",
      "avr-nm -n simpleserial-base-CW303.elf > simpleserial-base-CW303.sym\n",
      "SS_VER set to SS_VER_1_1\n",
      "SS_VER set to SS_VER_1_1\n",
      "Size after:\n",
      "   text\t   data\t    bss\t    dec\t    hex\tfilename\n",
      "   2088\t     16\t     98\t   2202\t    89a\tsimpleserial-base-CW303.elf\n",
      "+--------------------------------------------------------\n",
      "+ Default target does full rebuild each time.\n",
      "+ Specify buildtarget == allquick == to avoid full rebuild\n",
      "+--------------------------------------------------------\n",
      "+--------------------------------------------------------\n",
      "+ Built for platform CW-Lite XMEGA with:\n",
      "+ CRYPTO_TARGET = NONE\n",
      "+ CRYPTO_OPTIONS = AES128C\n",
      "+--------------------------------------------------------\n"
     ]
    }
   ],
   "source": [
    "%%bash\n",
    "cd ../../chipwhisperer/hardware/victims/firmware/simpleserial-base/\n",
    "pwd\n",
    "make PLATFORM=CW303 CRYPTO_TARGET=NONE"
   ]
  },
  {
   "cell_type": "code",
   "execution_count": 7,
   "id": "20d7a52c-638a-410f-a206-6e9a7675e171",
   "metadata": {},
   "outputs": [
    {
     "name": "stdout",
     "output_type": "stream",
     "text": [
      "XMEGA Programming flash...\n",
      "XMEGA Reading flash...\n",
      "Verified flash OK, 2103 bytes\n"
     ]
    }
   ],
   "source": [
    "# Change the path according to the platofm you choosen\n",
    "cw.program_target(scope, cw.programmers.XMEGAProgrammer, \"../../chipwhisperer/hardware/victims/firmware/simpleserial-base/simpleserial-base-CW303.hex\")"
   ]
  },
  {
   "cell_type": "markdown",
   "id": "c37edef9-6f6e-4117-9e26-f2fee2ce8f2d",
   "metadata": {},
   "source": [
    "### Communication with the target (using the firmware)"
   ]
  },
  {
   "cell_type": "code",
   "execution_count": 8,
   "id": "18fd04d7-1d53-4019-83d2-7a50bc1a48cd",
   "metadata": {},
   "outputs": [
    {
     "name": "stderr",
     "output_type": "stream",
     "text": [
      "(ChipWhisperer Target WARNING|File SimpleSerial.py:410) Unexpected start to command: h\n"
     ]
    },
    {
     "name": "stdout",
     "output_type": "stream",
     "text": [
      "None\n"
     ]
    }
   ],
   "source": [
    "msg = bytearray([1]*16) #simpleserial uses bytearrays\n",
    "target.write('p126110475e17505a6966be70c89a829c\\n \\n ')\n",
    "print(target.simpleserial_read('r', 16))"
   ]
  },
  {
   "cell_type": "code",
   "execution_count": 9,
   "id": "141f21ef-c455-4cf5-a55f-d7ac6d685f40",
   "metadata": {},
   "outputs": [
    {
     "name": "stdout",
     "output_type": "stream",
     "text": [
      "475E17505A6966BE70C89A829C\n",
      "z00\n",
      "\n"
     ]
    }
   ],
   "source": [
    "print(target.read())"
   ]
  },
  {
   "cell_type": "markdown",
   "id": "16f469ca-a514-49eb-8220-ab19be92deda",
   "metadata": {},
   "source": [
    "## With our own firmware\n"
   ]
  },
  {
   "cell_type": "code",
   "execution_count": 11,
   "id": "04923376-c4bd-4ec3-a413-512496755e30",
   "metadata": {},
   "outputs": [
    {
     "name": "stdout",
     "output_type": "stream",
     "text": [
      "SS_VER set to SS_VER_1_1\n",
      "SS_VER set to SS_VER_1_1\n",
      "SS_VER set to SS_VER_1_1\n",
      "SS_VER set to SS_VER_1_1\n",
      "make[1]: '.dep' is up to date.\n",
      "SS_VER set to SS_VER_1_1\n",
      "SS_VER set to SS_VER_1_1\n",
      ".\n",
      "Welcome to another exciting ChipWhisperer target build!!\n",
      "avr-gcc (GCC) 13.2.0\n",
      "Copyright (C) 2023 Free Software Foundation, Inc.\n",
      "This is free software; see the source for copying conditions.  There is NO\n",
      "warranty; not even for MERCHANTABILITY or FITNESS FOR A PARTICULAR PURPOSE.\n",
      "\n",
      ".\n",
      "Compiling:\n"
     ]
    },
    {
     "name": "stderr",
     "output_type": "stream",
     "text": [
      "simpleserial-homemade-rsa.c: In function 'main':\n",
      "simpleserial-homemade-rsa.c:45:33: warning: passing argument 3 of 'simpleserial_addcmd' from incompatible pointer type [-Wincompatible-pointer-types]\n",
      "   45 |     simpleserial_addcmd('g', 0, gen_key);\n",
      "      |                                 ^~~~~~~\n",
      "      |                                 |\n",
      "      |                                 RsaKey (*)()\n",
      "In file included from simpleserial-homemade-rsa.c:3:\n",
      "../../chipwhisperer/hardware/victims/firmware/simpleserial/simpleserial.h:49:61: note: expected 'uint8_t (*)(uint8_t *, uint8_t)' {aka 'unsigned char (*)(unsigned char *, unsigned char)'} but argument is of type 'RsaKey (*)()'\n",
      "   49 | int simpleserial_addcmd(char c, unsigned int len, uint8_t (*fp)(uint8_t*, uint8_t));\n",
      "      |                                                   ~~~~~~~~~~^~~~~~~~~~~~~~~~~~~~~~\n",
      "simpleserial-homemade-rsa.c:50:33: error: 'get_d' undeclared (first use in this function)\n",
      "   50 |     simpleserial_addcmd('d', 0, get_d);\n",
      "      |                                 ^~~~~\n",
      "simpleserial-homemade-rsa.c:50:33: note: each undeclared identifier is reported only once for each function it appears in\n",
      "simpleserial-homemade-rsa.c: At top level:\n",
      "simpleserial-homemade-rsa.c:57:1: fatal error: opening dependency file .dep/simpleserial-homemade-rsa.o.d: Permission denied\n",
      "   57 | }\n",
      "      | ^\n",
      "compilation terminated.\n",
      "make[1]: *** [../../chipwhisperer/hardware/victims/firmware/Makefile.inc:507: objdir-CW303/simpleserial-homemade-rsa.o] Error 1\n",
      "make: *** [../../chipwhisperer/hardware/victims/firmware/Makefile.inc:350: all] Error 2\n"
     ]
    },
    {
     "name": "stdout",
     "output_type": "stream",
     "text": [
      "    simpleserial-homemade-rsa.c ..."
     ]
    },
    {
     "ename": "CalledProcessError",
     "evalue": "Command 'b'cd ../src\\nmake\\n'' returned non-zero exit status 2.",
     "output_type": "error",
     "traceback": [
      "\u001b[0;31m---------------------------------------------------------------------------\u001b[0m",
      "\u001b[0;31mCalledProcessError\u001b[0m                        Traceback (most recent call last)",
      "Cell \u001b[0;32mIn[11], line 1\u001b[0m\n\u001b[0;32m----> 1\u001b[0m \u001b[43mget_ipython\u001b[49m\u001b[43m(\u001b[49m\u001b[43m)\u001b[49m\u001b[38;5;241;43m.\u001b[39;49m\u001b[43mrun_cell_magic\u001b[49m\u001b[43m(\u001b[49m\u001b[38;5;124;43m'\u001b[39;49m\u001b[38;5;124;43mbash\u001b[39;49m\u001b[38;5;124;43m'\u001b[39;49m\u001b[43m,\u001b[49m\u001b[43m \u001b[49m\u001b[38;5;124;43m'\u001b[39;49m\u001b[38;5;124;43m'\u001b[39;49m\u001b[43m,\u001b[49m\u001b[43m \u001b[49m\u001b[38;5;124;43m'\u001b[39;49m\u001b[38;5;124;43mcd ../src\u001b[39;49m\u001b[38;5;130;43;01m\\n\u001b[39;49;00m\u001b[38;5;124;43mmake\u001b[39;49m\u001b[38;5;130;43;01m\\n\u001b[39;49;00m\u001b[38;5;124;43m'\u001b[39;49m\u001b[43m)\u001b[49m\n",
      "File \u001b[0;32m~/.pyenv/versions/cw/lib/python3.9/site-packages/IPython/core/interactiveshell.py:2517\u001b[0m, in \u001b[0;36mInteractiveShell.run_cell_magic\u001b[0;34m(self, magic_name, line, cell)\u001b[0m\n\u001b[1;32m   2515\u001b[0m \u001b[38;5;28;01mwith\u001b[39;00m \u001b[38;5;28mself\u001b[39m\u001b[38;5;241m.\u001b[39mbuiltin_trap:\n\u001b[1;32m   2516\u001b[0m     args \u001b[38;5;241m=\u001b[39m (magic_arg_s, cell)\n\u001b[0;32m-> 2517\u001b[0m     result \u001b[38;5;241m=\u001b[39m \u001b[43mfn\u001b[49m\u001b[43m(\u001b[49m\u001b[38;5;241;43m*\u001b[39;49m\u001b[43margs\u001b[49m\u001b[43m,\u001b[49m\u001b[43m \u001b[49m\u001b[38;5;241;43m*\u001b[39;49m\u001b[38;5;241;43m*\u001b[39;49m\u001b[43mkwargs\u001b[49m\u001b[43m)\u001b[49m\n\u001b[1;32m   2519\u001b[0m \u001b[38;5;66;03m# The code below prevents the output from being displayed\u001b[39;00m\n\u001b[1;32m   2520\u001b[0m \u001b[38;5;66;03m# when using magics with decorator @output_can_be_silenced\u001b[39;00m\n\u001b[1;32m   2521\u001b[0m \u001b[38;5;66;03m# when the last Python token in the expression is a ';'.\u001b[39;00m\n\u001b[1;32m   2522\u001b[0m \u001b[38;5;28;01mif\u001b[39;00m \u001b[38;5;28mgetattr\u001b[39m(fn, magic\u001b[38;5;241m.\u001b[39mMAGIC_OUTPUT_CAN_BE_SILENCED, \u001b[38;5;28;01mFalse\u001b[39;00m):\n",
      "File \u001b[0;32m~/.pyenv/versions/cw/lib/python3.9/site-packages/IPython/core/magics/script.py:154\u001b[0m, in \u001b[0;36mScriptMagics._make_script_magic.<locals>.named_script_magic\u001b[0;34m(line, cell)\u001b[0m\n\u001b[1;32m    152\u001b[0m \u001b[38;5;28;01melse\u001b[39;00m:\n\u001b[1;32m    153\u001b[0m     line \u001b[38;5;241m=\u001b[39m script\n\u001b[0;32m--> 154\u001b[0m \u001b[38;5;28;01mreturn\u001b[39;00m \u001b[38;5;28;43mself\u001b[39;49m\u001b[38;5;241;43m.\u001b[39;49m\u001b[43mshebang\u001b[49m\u001b[43m(\u001b[49m\u001b[43mline\u001b[49m\u001b[43m,\u001b[49m\u001b[43m \u001b[49m\u001b[43mcell\u001b[49m\u001b[43m)\u001b[49m\n",
      "File \u001b[0;32m~/.pyenv/versions/cw/lib/python3.9/site-packages/IPython/core/magics/script.py:314\u001b[0m, in \u001b[0;36mScriptMagics.shebang\u001b[0;34m(self, line, cell)\u001b[0m\n\u001b[1;32m    309\u001b[0m \u001b[38;5;28;01mif\u001b[39;00m args\u001b[38;5;241m.\u001b[39mraise_error \u001b[38;5;129;01mand\u001b[39;00m p\u001b[38;5;241m.\u001b[39mreturncode \u001b[38;5;241m!=\u001b[39m \u001b[38;5;241m0\u001b[39m:\n\u001b[1;32m    310\u001b[0m     \u001b[38;5;66;03m# If we get here and p.returncode is still None, we must have\u001b[39;00m\n\u001b[1;32m    311\u001b[0m     \u001b[38;5;66;03m# killed it but not yet seen its return code. We don't wait for it,\u001b[39;00m\n\u001b[1;32m    312\u001b[0m     \u001b[38;5;66;03m# in case it's stuck in uninterruptible sleep. -9 = SIGKILL\u001b[39;00m\n\u001b[1;32m    313\u001b[0m     rc \u001b[38;5;241m=\u001b[39m p\u001b[38;5;241m.\u001b[39mreturncode \u001b[38;5;129;01mor\u001b[39;00m \u001b[38;5;241m-\u001b[39m\u001b[38;5;241m9\u001b[39m\n\u001b[0;32m--> 314\u001b[0m     \u001b[38;5;28;01mraise\u001b[39;00m CalledProcessError(rc, cell)\n",
      "\u001b[0;31mCalledProcessError\u001b[0m: Command 'b'cd ../src\\nmake\\n'' returned non-zero exit status 2."
     ]
    }
   ],
   "source": [
    "%%bash\n",
    "cd ../src\n",
    "make"
   ]
  },
  {
   "cell_type": "code",
   "execution_count": 227,
   "id": "18e37462-e366-4c17-a81f-bd82dc1300be",
   "metadata": {},
   "outputs": [
    {
     "name": "stdout",
     "output_type": "stream",
     "text": [
      "XMEGA Programming flash...\n",
      "XMEGA Reading flash...\n",
      "Verified flash OK, 5769 bytes\n"
     ]
    }
   ],
   "source": [
    "# Change the path according to your firmware name\n",
    "cw.program_target(scope, cw.programmers.XMEGAProgrammer, \"../src/simpleserial-homemade-rsa-CW303.hex\")"
   ]
  },
  {
   "cell_type": "code",
   "execution_count": 229,
   "id": "1f9415ab-9adf-47b3-b4a1-e77840332e59",
   "metadata": {},
   "outputs": [
    {
     "name": "stdout",
     "output_type": "stream",
     "text": [
      "z00\n",
      "\n"
     ]
    }
   ],
   "source": [
    "# Génération de clefs\n",
    "\n",
    "target.write(\"g\\n\");\n",
    "a = target.read()\n",
    "print(a)"
   ]
  },
  {
   "cell_type": "code",
   "execution_count": 230,
   "id": "29e18d96-ac71-4c0f-9eaf-0e560edb5268",
   "metadata": {},
   "outputs": [
    {
     "name": "stdout",
     "output_type": "stream",
     "text": [
      "z00\n",
      "\n",
      "bytearray(b'n=269911717 e=65776 d=173278623 p=16411 q=16447 phi=269878860\\x00\\x00\\x00')\n"
     ]
    }
   ],
   "source": [
    "# Affichage de `d`\n",
    "\n",
    "target.write('d\\n')\n",
    "print(target.read())\n",
    "print(target.simpleserial_read('r', 64))"
   ]
  },
  {
   "cell_type": "code",
   "execution_count": 231,
   "id": "b494280b-62fb-4f81-ad66-1d6caa2e2aa9",
   "metadata": {},
   "outputs": [],
   "source": [
    "#scope.adc.clk_freq = 3.75e6 * 2\n",
    "# scope.adc.clk_freq\n",
    "# scope.adc.samples\n",
    "# scope.adc.samples"
   ]
  },
  {
   "cell_type": "code",
   "execution_count": 232,
   "id": "60729437-ebb6-4711-9288-8ba0aaff983d",
   "metadata": {},
   "outputs": [
    {
     "name": "stdout",
     "output_type": "stream",
     "text": [
      "\n",
      "bytearray(b'ct=127212354\\x00\\x00\\x00\\x00\\x00\\x00\\x00\\x00\\x00\\x00\\x00\\x00\\x00\\x00\\x00\\x00\\x00\\x00\\x00\\x00\\x00\\x00\\x00\\x00\\x00\\x00\\x00\\x00\\x00\\x00\\x00\\x00\\x00\\x00\\x00\\x00\\x00\\x00\\x00\\x00\\x00\\x00\\x00\\x00\\x00\\x00\\x00\\x00\\x00\\x00\\x00\\x00')\n"
     ]
    },
    {
     "data": {
      "image/png": "[encoded data removed]",
      "text/plain": [
       "<Figure size 640x480 with 1 Axes>"
      ]
     },
     "metadata": {},
     "output_type": "display_data"
    }
   ],
   "source": [
    "# Encryption d'un plaintext\n",
    "scope.arm()\n",
    "\n",
    "target.write(\"e\\n\")\n",
    "\n",
    "print(target.read())\n",
    "print(target.simpleserial_read('r', 64))\n",
    "\n",
    "scope.capture()\n",
    "res = scope.get_last_trace()\n",
    "\n",
    "\n",
    "import matplotlib.pylab as plt\n",
    "plt.plot(res[:], 'r')\n",
    "plt.show()"
   ]
  },
  {
   "cell_type": "code",
   "execution_count": 233,
   "id": "724895e3-5ede-4dad-85ac-85a0e23ccac8",
   "metadata": {},
   "outputs": [
    {
     "data": {
      "image/png": "[encoded data removed]",
      "text/plain": [
       "<Figure size 640x480 with 1 Axes>"
      ]
     },
     "metadata": {},
     "output_type": "display_data"
    }
   ],
   "source": [
    "plt.plot(res[:], 'r')\n",
    "plt.show()"
   ]
  },
  {
   "cell_type": "code",
   "execution_count": 238,
   "id": "a8f7c66c-ac65-49af-8bb9-74ed7e2fdf48",
   "metadata": {},
   "outputs": [
    {
     "data": {
      "image/png": "[encoded data removed]",
      "text/plain": [
       "<Figure size 640x480 with 1 Axes>"
      ]
     },
     "metadata": {},
     "output_type": "display_data"
    }
   ],
   "source": [
    "begin = 3300\n",
    "plt.plot(res[begin:begin+1000], 'r')\n",
    "plt.show()"
   ]
  },
  {
   "cell_type": "code",
   "execution_count": null,
   "id": "0529e0e9-2464-4369-8c56-95b6e8a04526",
   "metadata": {},
   "outputs": [],
   "source": []
  }
 ],
 "metadata": {
  "kernelspec": {
   "display_name": "Python 3 (ipykernel)",
   "language": "python",
   "name": "python3"
  },
  "language_info": {
   "codemirror_mode": {
    "name": "ipython",
    "version": 3
   },
   "file_extension": ".py",
   "mimetype": "text/x-python",
   "name": "python",
   "nbconvert_exporter": "python",
   "pygments_lexer": "ipython3",
   "version": "3.9.5"
  }
 },
 "nbformat": 4,
 "nbformat_minor": 5
}
